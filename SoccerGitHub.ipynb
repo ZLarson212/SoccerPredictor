{
  "nbformat": 4,
  "nbformat_minor": 0,
  "metadata": {
    "colab": {
      "provenance": []
    },
    "kernelspec": {
      "name": "python3",
      "display_name": "Python 3"
    },
    "language_info": {
      "name": "python"
    }
  },
  "cells": [
    {
      "cell_type": "markdown",
      "source": [
        "## Neural Network and Data Mining\n",
        "\n",
        "A project that demonstrates construction, use, and evaluation of a neural network and the sourcing and cleaning of a dataset."
      ],
      "metadata": {
        "id": "FI9aXj_yVrYE"
      }
    },
    {
      "cell_type": "markdown",
      "source": [
        "First we load the libraries we'll need. The dataset is initially formatted as an SQL databse, so we need sqlite3 to read it initially and then use pandas to translate it into a dataframe."
      ],
      "metadata": {
        "id": "1I83JMlZV2QS"
      }
    },
    {
      "cell_type": "code",
      "execution_count": 1,
      "metadata": {
        "id": "_XsHzPfmLiwW"
      },
      "outputs": [],
      "source": [
        "import numpy as np\n",
        "import pandas as pd\n",
        "import datetime\n",
        "import sqlite3\n",
        "import matplotlib.pyplot as plt\n",
        "\n",
        "import tensorflow as tf\n",
        "from tensorflow import keras\n",
        "from tensorflow.keras import layers\n",
        "from sklearn.model_selection import train_test_split"
      ]
    },
    {
      "cell_type": "code",
      "source": [
        "from google.colab import drive\n",
        "drive.mount('/content/gdrive')"
      ],
      "metadata": {
        "colab": {
          "base_uri": "https://localhost:8080/"
        },
        "id": "fJvL41ILQFbV",
        "outputId": "88bce8ab-f662-4855-86ab-c6afbd2fbb6b"
      },
      "execution_count": 2,
      "outputs": [
        {
          "output_type": "stream",
          "name": "stdout",
          "text": [
            "Mounted at /content/gdrive\n"
          ]
        }
      ]
    },
    {
      "cell_type": "markdown",
      "source": [
        "The data is taken from a Kaggle competition page linked here."
      ],
      "metadata": {
        "id": "v5qxlmB6XjC3"
      }
    },
    {
      "cell_type": "code",
      "source": [
        "db = sqlite3.connect(\"/content/gdrive/My Drive/Datasets/database.sqlite\")\n",
        "\n",
        "#Seasons 2008-2016\n",
        "#https://www.kaggle.com/datasets/hugomathien/soccer"
      ],
      "metadata": {
        "id": "XSpqyVW0QIZC"
      },
      "execution_count": 3,
      "outputs": []
    },
    {
      "cell_type": "markdown",
      "source": [
        "Read each of the databases into separate dataframes with pandas. They all have different columns so we will work on combining their relevant information later."
      ],
      "metadata": {
        "id": "BLsIY25xYdJY"
      }
    },
    {
      "cell_type": "code",
      "source": [
        "matches = pd.read_sql(\"SELECT * from Match\", db)\n",
        "country = pd.read_sql(\"SELECT * from Country\", db)\n",
        "league = pd.read_sql(\"SELECT * from League\", db)\n",
        "player = pd.read_sql(\"SELECT * from Player\", db)\n",
        "playerAttributes = pd.read_sql(\"SELECT * from Player_Attributes\", db)\n",
        "team = pd.read_sql(\"SELECT * from Team\", db)\n",
        "teamAttributes = pd.read_sql(\"SELECT * from Team_Attributes\", db)"
      ],
      "metadata": {
        "id": "ogBAIJISQMls"
      },
      "execution_count": 4,
      "outputs": []
    },
    {
      "cell_type": "markdown",
      "source": [
        "Let's see which leagues we have data for."
      ],
      "metadata": {
        "id": "gzzDWDyQcOSG"
      }
    },
    {
      "cell_type": "code",
      "source": [
        "league"
      ],
      "metadata": {
        "colab": {
          "base_uri": "https://localhost:8080/",
          "height": 394
        },
        "id": "NHVM0f_icNmu",
        "outputId": "26ac6b60-638c-4c28-914d-0ba73111c90b"
      },
      "execution_count": 5,
      "outputs": [
        {
          "output_type": "execute_result",
          "data": {
            "text/plain": [
              "       id  country_id                      name\n",
              "0       1           1    Belgium Jupiler League\n",
              "1    1729        1729    England Premier League\n",
              "2    4769        4769            France Ligue 1\n",
              "3    7809        7809     Germany 1. Bundesliga\n",
              "4   10257       10257             Italy Serie A\n",
              "5   13274       13274    Netherlands Eredivisie\n",
              "6   15722       15722        Poland Ekstraklasa\n",
              "7   17642       17642  Portugal Liga ZON Sagres\n",
              "8   19694       19694   Scotland Premier League\n",
              "9   21518       21518           Spain LIGA BBVA\n",
              "10  24558       24558  Switzerland Super League"
            ],
            "text/html": [
              "\n",
              "  <div id=\"df-346e2492-fffa-420e-8a5e-f480efdc973e\" class=\"colab-df-container\">\n",
              "    <div>\n",
              "<style scoped>\n",
              "    .dataframe tbody tr th:only-of-type {\n",
              "        vertical-align: middle;\n",
              "    }\n",
              "\n",
              "    .dataframe tbody tr th {\n",
              "        vertical-align: top;\n",
              "    }\n",
              "\n",
              "    .dataframe thead th {\n",
              "        text-align: right;\n",
              "    }\n",
              "</style>\n",
              "<table border=\"1\" class=\"dataframe\">\n",
              "  <thead>\n",
              "    <tr style=\"text-align: right;\">\n",
              "      <th></th>\n",
              "      <th>id</th>\n",
              "      <th>country_id</th>\n",
              "      <th>name</th>\n",
              "    </tr>\n",
              "  </thead>\n",
              "  <tbody>\n",
              "    <tr>\n",
              "      <th>0</th>\n",
              "      <td>1</td>\n",
              "      <td>1</td>\n",
              "      <td>Belgium Jupiler League</td>\n",
              "    </tr>\n",
              "    <tr>\n",
              "      <th>1</th>\n",
              "      <td>1729</td>\n",
              "      <td>1729</td>\n",
              "      <td>England Premier League</td>\n",
              "    </tr>\n",
              "    <tr>\n",
              "      <th>2</th>\n",
              "      <td>4769</td>\n",
              "      <td>4769</td>\n",
              "      <td>France Ligue 1</td>\n",
              "    </tr>\n",
              "    <tr>\n",
              "      <th>3</th>\n",
              "      <td>7809</td>\n",
              "      <td>7809</td>\n",
              "      <td>Germany 1. Bundesliga</td>\n",
              "    </tr>\n",
              "    <tr>\n",
              "      <th>4</th>\n",
              "      <td>10257</td>\n",
              "      <td>10257</td>\n",
              "      <td>Italy Serie A</td>\n",
              "    </tr>\n",
              "    <tr>\n",
              "      <th>5</th>\n",
              "      <td>13274</td>\n",
              "      <td>13274</td>\n",
              "      <td>Netherlands Eredivisie</td>\n",
              "    </tr>\n",
              "    <tr>\n",
              "      <th>6</th>\n",
              "      <td>15722</td>\n",
              "      <td>15722</td>\n",
              "      <td>Poland Ekstraklasa</td>\n",
              "    </tr>\n",
              "    <tr>\n",
              "      <th>7</th>\n",
              "      <td>17642</td>\n",
              "      <td>17642</td>\n",
              "      <td>Portugal Liga ZON Sagres</td>\n",
              "    </tr>\n",
              "    <tr>\n",
              "      <th>8</th>\n",
              "      <td>19694</td>\n",
              "      <td>19694</td>\n",
              "      <td>Scotland Premier League</td>\n",
              "    </tr>\n",
              "    <tr>\n",
              "      <th>9</th>\n",
              "      <td>21518</td>\n",
              "      <td>21518</td>\n",
              "      <td>Spain LIGA BBVA</td>\n",
              "    </tr>\n",
              "    <tr>\n",
              "      <th>10</th>\n",
              "      <td>24558</td>\n",
              "      <td>24558</td>\n",
              "      <td>Switzerland Super League</td>\n",
              "    </tr>\n",
              "  </tbody>\n",
              "</table>\n",
              "</div>\n",
              "    <div class=\"colab-df-buttons\">\n",
              "\n",
              "  <div class=\"colab-df-container\">\n",
              "    <button class=\"colab-df-convert\" onclick=\"convertToInteractive('df-346e2492-fffa-420e-8a5e-f480efdc973e')\"\n",
              "            title=\"Convert this dataframe to an interactive table.\"\n",
              "            style=\"display:none;\">\n",
              "\n",
              "  <svg xmlns=\"http://www.w3.org/2000/svg\" height=\"24px\" viewBox=\"0 -960 960 960\">\n",
              "    <path d=\"M120-120v-720h720v720H120Zm60-500h600v-160H180v160Zm220 220h160v-160H400v160Zm0 220h160v-160H400v160ZM180-400h160v-160H180v160Zm440 0h160v-160H620v160ZM180-180h160v-160H180v160Zm440 0h160v-160H620v160Z\"/>\n",
              "  </svg>\n",
              "    </button>\n",
              "\n",
              "  <style>\n",
              "    .colab-df-container {\n",
              "      display:flex;\n",
              "      gap: 12px;\n",
              "    }\n",
              "\n",
              "    .colab-df-convert {\n",
              "      background-color: #E8F0FE;\n",
              "      border: none;\n",
              "      border-radius: 50%;\n",
              "      cursor: pointer;\n",
              "      display: none;\n",
              "      fill: #1967D2;\n",
              "      height: 32px;\n",
              "      padding: 0 0 0 0;\n",
              "      width: 32px;\n",
              "    }\n",
              "\n",
              "    .colab-df-convert:hover {\n",
              "      background-color: #E2EBFA;\n",
              "      box-shadow: 0px 1px 2px rgba(60, 64, 67, 0.3), 0px 1px 3px 1px rgba(60, 64, 67, 0.15);\n",
              "      fill: #174EA6;\n",
              "    }\n",
              "\n",
              "    .colab-df-buttons div {\n",
              "      margin-bottom: 4px;\n",
              "    }\n",
              "\n",
              "    [theme=dark] .colab-df-convert {\n",
              "      background-color: #3B4455;\n",
              "      fill: #D2E3FC;\n",
              "    }\n",
              "\n",
              "    [theme=dark] .colab-df-convert:hover {\n",
              "      background-color: #434B5C;\n",
              "      box-shadow: 0px 1px 3px 1px rgba(0, 0, 0, 0.15);\n",
              "      filter: drop-shadow(0px 1px 2px rgba(0, 0, 0, 0.3));\n",
              "      fill: #FFFFFF;\n",
              "    }\n",
              "  </style>\n",
              "\n",
              "    <script>\n",
              "      const buttonEl =\n",
              "        document.querySelector('#df-346e2492-fffa-420e-8a5e-f480efdc973e button.colab-df-convert');\n",
              "      buttonEl.style.display =\n",
              "        google.colab.kernel.accessAllowed ? 'block' : 'none';\n",
              "\n",
              "      async function convertToInteractive(key) {\n",
              "        const element = document.querySelector('#df-346e2492-fffa-420e-8a5e-f480efdc973e');\n",
              "        const dataTable =\n",
              "          await google.colab.kernel.invokeFunction('convertToInteractive',\n",
              "                                                    [key], {});\n",
              "        if (!dataTable) return;\n",
              "\n",
              "        const docLinkHtml = 'Like what you see? Visit the ' +\n",
              "          '<a target=\"_blank\" href=https://colab.research.google.com/notebooks/data_table.ipynb>data table notebook</a>'\n",
              "          + ' to learn more about interactive tables.';\n",
              "        element.innerHTML = '';\n",
              "        dataTable['output_type'] = 'display_data';\n",
              "        await google.colab.output.renderOutput(dataTable, element);\n",
              "        const docLink = document.createElement('div');\n",
              "        docLink.innerHTML = docLinkHtml;\n",
              "        element.appendChild(docLink);\n",
              "      }\n",
              "    </script>\n",
              "  </div>\n",
              "\n",
              "\n",
              "<div id=\"df-edfb48f7-b301-4b92-a667-4ad28412a6e8\">\n",
              "  <button class=\"colab-df-quickchart\" onclick=\"quickchart('df-edfb48f7-b301-4b92-a667-4ad28412a6e8')\"\n",
              "            title=\"Suggest charts\"\n",
              "            style=\"display:none;\">\n",
              "\n",
              "<svg xmlns=\"http://www.w3.org/2000/svg\" height=\"24px\"viewBox=\"0 0 24 24\"\n",
              "     width=\"24px\">\n",
              "    <g>\n",
              "        <path d=\"M19 3H5c-1.1 0-2 .9-2 2v14c0 1.1.9 2 2 2h14c1.1 0 2-.9 2-2V5c0-1.1-.9-2-2-2zM9 17H7v-7h2v7zm4 0h-2V7h2v10zm4 0h-2v-4h2v4z\"/>\n",
              "    </g>\n",
              "</svg>\n",
              "  </button>\n",
              "\n",
              "<style>\n",
              "  .colab-df-quickchart {\n",
              "      --bg-color: #E8F0FE;\n",
              "      --fill-color: #1967D2;\n",
              "      --hover-bg-color: #E2EBFA;\n",
              "      --hover-fill-color: #174EA6;\n",
              "      --disabled-fill-color: #AAA;\n",
              "      --disabled-bg-color: #DDD;\n",
              "  }\n",
              "\n",
              "  [theme=dark] .colab-df-quickchart {\n",
              "      --bg-color: #3B4455;\n",
              "      --fill-color: #D2E3FC;\n",
              "      --hover-bg-color: #434B5C;\n",
              "      --hover-fill-color: #FFFFFF;\n",
              "      --disabled-bg-color: #3B4455;\n",
              "      --disabled-fill-color: #666;\n",
              "  }\n",
              "\n",
              "  .colab-df-quickchart {\n",
              "    background-color: var(--bg-color);\n",
              "    border: none;\n",
              "    border-radius: 50%;\n",
              "    cursor: pointer;\n",
              "    display: none;\n",
              "    fill: var(--fill-color);\n",
              "    height: 32px;\n",
              "    padding: 0;\n",
              "    width: 32px;\n",
              "  }\n",
              "\n",
              "  .colab-df-quickchart:hover {\n",
              "    background-color: var(--hover-bg-color);\n",
              "    box-shadow: 0 1px 2px rgba(60, 64, 67, 0.3), 0 1px 3px 1px rgba(60, 64, 67, 0.15);\n",
              "    fill: var(--button-hover-fill-color);\n",
              "  }\n",
              "\n",
              "  .colab-df-quickchart-complete:disabled,\n",
              "  .colab-df-quickchart-complete:disabled:hover {\n",
              "    background-color: var(--disabled-bg-color);\n",
              "    fill: var(--disabled-fill-color);\n",
              "    box-shadow: none;\n",
              "  }\n",
              "\n",
              "  .colab-df-spinner {\n",
              "    border: 2px solid var(--fill-color);\n",
              "    border-color: transparent;\n",
              "    border-bottom-color: var(--fill-color);\n",
              "    animation:\n",
              "      spin 1s steps(1) infinite;\n",
              "  }\n",
              "\n",
              "  @keyframes spin {\n",
              "    0% {\n",
              "      border-color: transparent;\n",
              "      border-bottom-color: var(--fill-color);\n",
              "      border-left-color: var(--fill-color);\n",
              "    }\n",
              "    20% {\n",
              "      border-color: transparent;\n",
              "      border-left-color: var(--fill-color);\n",
              "      border-top-color: var(--fill-color);\n",
              "    }\n",
              "    30% {\n",
              "      border-color: transparent;\n",
              "      border-left-color: var(--fill-color);\n",
              "      border-top-color: var(--fill-color);\n",
              "      border-right-color: var(--fill-color);\n",
              "    }\n",
              "    40% {\n",
              "      border-color: transparent;\n",
              "      border-right-color: var(--fill-color);\n",
              "      border-top-color: var(--fill-color);\n",
              "    }\n",
              "    60% {\n",
              "      border-color: transparent;\n",
              "      border-right-color: var(--fill-color);\n",
              "    }\n",
              "    80% {\n",
              "      border-color: transparent;\n",
              "      border-right-color: var(--fill-color);\n",
              "      border-bottom-color: var(--fill-color);\n",
              "    }\n",
              "    90% {\n",
              "      border-color: transparent;\n",
              "      border-bottom-color: var(--fill-color);\n",
              "    }\n",
              "  }\n",
              "</style>\n",
              "\n",
              "  <script>\n",
              "    async function quickchart(key) {\n",
              "      const quickchartButtonEl =\n",
              "        document.querySelector('#' + key + ' button');\n",
              "      quickchartButtonEl.disabled = true;  // To prevent multiple clicks.\n",
              "      quickchartButtonEl.classList.add('colab-df-spinner');\n",
              "      try {\n",
              "        const charts = await google.colab.kernel.invokeFunction(\n",
              "            'suggestCharts', [key], {});\n",
              "      } catch (error) {\n",
              "        console.error('Error during call to suggestCharts:', error);\n",
              "      }\n",
              "      quickchartButtonEl.classList.remove('colab-df-spinner');\n",
              "      quickchartButtonEl.classList.add('colab-df-quickchart-complete');\n",
              "    }\n",
              "    (() => {\n",
              "      let quickchartButtonEl =\n",
              "        document.querySelector('#df-edfb48f7-b301-4b92-a667-4ad28412a6e8 button');\n",
              "      quickchartButtonEl.style.display =\n",
              "        google.colab.kernel.accessAllowed ? 'block' : 'none';\n",
              "    })();\n",
              "  </script>\n",
              "</div>\n",
              "\n",
              "  <div id=\"id_bbc5bb5b-5c27-4677-9785-e8cafef5456f\">\n",
              "    <style>\n",
              "      .colab-df-generate {\n",
              "        background-color: #E8F0FE;\n",
              "        border: none;\n",
              "        border-radius: 50%;\n",
              "        cursor: pointer;\n",
              "        display: none;\n",
              "        fill: #1967D2;\n",
              "        height: 32px;\n",
              "        padding: 0 0 0 0;\n",
              "        width: 32px;\n",
              "      }\n",
              "\n",
              "      .colab-df-generate:hover {\n",
              "        background-color: #E2EBFA;\n",
              "        box-shadow: 0px 1px 2px rgba(60, 64, 67, 0.3), 0px 1px 3px 1px rgba(60, 64, 67, 0.15);\n",
              "        fill: #174EA6;\n",
              "      }\n",
              "\n",
              "      [theme=dark] .colab-df-generate {\n",
              "        background-color: #3B4455;\n",
              "        fill: #D2E3FC;\n",
              "      }\n",
              "\n",
              "      [theme=dark] .colab-df-generate:hover {\n",
              "        background-color: #434B5C;\n",
              "        box-shadow: 0px 1px 3px 1px rgba(0, 0, 0, 0.15);\n",
              "        filter: drop-shadow(0px 1px 2px rgba(0, 0, 0, 0.3));\n",
              "        fill: #FFFFFF;\n",
              "      }\n",
              "    </style>\n",
              "    <button class=\"colab-df-generate\" onclick=\"generateWithVariable('league')\"\n",
              "            title=\"Generate code using this dataframe.\"\n",
              "            style=\"display:none;\">\n",
              "\n",
              "  <svg xmlns=\"http://www.w3.org/2000/svg\" height=\"24px\"viewBox=\"0 0 24 24\"\n",
              "       width=\"24px\">\n",
              "    <path d=\"M7,19H8.4L18.45,9,17,7.55,7,17.6ZM5,21V16.75L18.45,3.32a2,2,0,0,1,2.83,0l1.4,1.43a1.91,1.91,0,0,1,.58,1.4,1.91,1.91,0,0,1-.58,1.4L9.25,21ZM18.45,9,17,7.55Zm-12,3A5.31,5.31,0,0,0,4.9,8.1,5.31,5.31,0,0,0,1,6.5,5.31,5.31,0,0,0,4.9,4.9,5.31,5.31,0,0,0,6.5,1,5.31,5.31,0,0,0,8.1,4.9,5.31,5.31,0,0,0,12,6.5,5.46,5.46,0,0,0,6.5,12Z\"/>\n",
              "  </svg>\n",
              "    </button>\n",
              "    <script>\n",
              "      (() => {\n",
              "      const buttonEl =\n",
              "        document.querySelector('#id_bbc5bb5b-5c27-4677-9785-e8cafef5456f button.colab-df-generate');\n",
              "      buttonEl.style.display =\n",
              "        google.colab.kernel.accessAllowed ? 'block' : 'none';\n",
              "\n",
              "      buttonEl.onclick = () => {\n",
              "        google.colab.notebook.generateWithVariable('league');\n",
              "      }\n",
              "      })();\n",
              "    </script>\n",
              "  </div>\n",
              "\n",
              "    </div>\n",
              "  </div>\n"
            ],
            "application/vnd.google.colaboratory.intrinsic+json": {
              "type": "dataframe",
              "variable_name": "league",
              "summary": "{\n  \"name\": \"league\",\n  \"rows\": 11,\n  \"fields\": [\n    {\n      \"column\": \"id\",\n      \"properties\": {\n        \"dtype\": \"number\",\n        \"std\": 8215,\n        \"min\": 1,\n        \"max\": 24558,\n        \"num_unique_values\": 11,\n        \"samples\": [\n          13274,\n          1,\n          21518\n        ],\n        \"semantic_type\": \"\",\n        \"description\": \"\"\n      }\n    },\n    {\n      \"column\": \"country_id\",\n      \"properties\": {\n        \"dtype\": \"number\",\n        \"std\": 8215,\n        \"min\": 1,\n        \"max\": 24558,\n        \"num_unique_values\": 11,\n        \"samples\": [\n          13274,\n          1,\n          21518\n        ],\n        \"semantic_type\": \"\",\n        \"description\": \"\"\n      }\n    },\n    {\n      \"column\": \"name\",\n      \"properties\": {\n        \"dtype\": \"string\",\n        \"num_unique_values\": 11,\n        \"samples\": [\n          \"Netherlands Eredivisie\",\n          \"Belgium Jupiler League\",\n          \"Spain LIGA BBVA\"\n        ],\n        \"semantic_type\": \"\",\n        \"description\": \"\"\n      }\n    }\n  ]\n}"
            }
          },
          "metadata": {},
          "execution_count": 5
        }
      ]
    },
    {
      "cell_type": "markdown",
      "source": [
        "Great! All of these leagues are in Europe. Soccer seasons in Europe begin in August and end in May, and thus, since teams and players are graded on a season by season basis, we should have a feature that gives the season in which a match occurred. We have the date for each match and a date corresponding to player attributes. There are some player attribute dates that are before the first season of interest (before August, 2008) or after the last season (after May, 2016). We won't add a season to those rows, and then we will remove them from the dataset by comparing any dates from those years to the earliest and latest match dates respectively."
      ],
      "metadata": {
        "id": "95XEpgRZY7k-"
      }
    },
    {
      "cell_type": "code",
      "source": [
        "df = pd.to_datetime(playerAttributes['date'])\n",
        "\n",
        "low = pd.to_datetime(matches['date'].min())\n",
        "high = pd.to_datetime(matches['date'].max())\n",
        "\n",
        "seasons = []\n",
        "\n",
        "for i in range(len(df)):\n",
        "  if (df[i] > low) & (df[i].strftime('%Y') == '2008'):\n",
        "    seasons.append('2008/2009')\n",
        "  if (df[i].month <= 6) & (df[i].strftime('%Y') == '2009'):\n",
        "    seasons.append('2008/2009')\n",
        "  if (df[i].month > 6) & (df[i].strftime('%Y') == '2009'):\n",
        "    seasons.append('2009/2010')\n",
        "  if (df[i].month <= 6) & (df[i].strftime('%Y') == '2010'):\n",
        "    seasons.append('2009/2010')\n",
        "  if (df[i].month > 6) & (df[i].strftime('%Y') == '2010'):\n",
        "    seasons.append('2010/2011')\n",
        "  if (df[i].month <= 6) & (df[i].strftime('%Y') == '2011'):\n",
        "    seasons.append('2010/2011')\n",
        "  if (df[i].month > 6) & (df[i].strftime('%Y') == '2011'):\n",
        "    seasons.append('2011/2012')\n",
        "  if (df[i].month <= 6) & (df[i].strftime('%Y') == '2012'):\n",
        "    seasons.append('2011/2012')\n",
        "  if (df[i].month > 6) & (df[i].strftime('%Y') == '2012'):\n",
        "    seasons.append('2012/2013')\n",
        "  if (df[i].month <= 6) & (df[i].strftime('%Y') == '2013'):\n",
        "    seasons.append('2012/2013')\n",
        "  if (df[i].month > 6) & (df[i].strftime('%Y') == '2013'):\n",
        "    seasons.append('2013/2014')\n",
        "  if (df[i].month <= 6) & (df[i].strftime('%Y') == '2014'):\n",
        "    seasons.append('2013/2014')\n",
        "  if (df[i].month > 6) & (df[i].strftime('%Y') == '2014'):\n",
        "    seasons.append('2014/2015')\n",
        "  if (df[i].month <= 6) & (df[i].strftime('%Y') == '2015'):\n",
        "    seasons.append('2014/2015')\n",
        "  if (df[i].month > 6) & (df[i].strftime('%Y') == '2015'):\n",
        "    seasons.append('2015/2016')\n",
        "  if (df[i] < high) & (df[i].strftime('%Y') == '2016'):\n",
        "    seasons.append('2015/2016')"
      ],
      "metadata": {
        "id": "V34jSPOcQNMR"
      },
      "execution_count": 6,
      "outputs": []
    },
    {
      "cell_type": "code",
      "source": [
        "badDates = []\n",
        "low = matches['date'].min()\n",
        "high = matches['date'].max()\n",
        "\n",
        "\n",
        "for i in range(len(playerAttributes)):\n",
        "  if playerAttributes['date'][i] < low:\n",
        "    badDates.append(i)\n",
        "  if playerAttributes['date'][i] > high:\n",
        "    badDates.append(i)"
      ],
      "metadata": {
        "id": "TEiT_ASsf6Qs"
      },
      "execution_count": 7,
      "outputs": []
    },
    {
      "cell_type": "markdown",
      "source": [
        "A little ugly, but it worked! Now we know the season for which the player attriutes apply, and removed any rows that don't match our target dataset. This will be important later for matching other data points to each player and match."
      ],
      "metadata": {
        "id": "HXxP2PiIfwFx"
      }
    },
    {
      "cell_type": "markdown",
      "source": [
        "Let's double check to make sure the length of the player attribute dataset is the same as the seasons list we just made, so that they match up when we combine them."
      ],
      "metadata": {
        "id": "MLtjoEU9nK4P"
      }
    },
    {
      "cell_type": "code",
      "source": [
        "(len(playerAttributes)-len(badDates)) - len(seasons)"
      ],
      "metadata": {
        "colab": {
          "base_uri": "https://localhost:8080/"
        },
        "id": "JZ9AUdvhnLRi",
        "outputId": "65f91773-4928-4528-9a08-ae7d178d5e2a"
      },
      "execution_count": 8,
      "outputs": [
        {
          "output_type": "execute_result",
          "data": {
            "text/plain": [
              "0"
            ]
          },
          "metadata": {},
          "execution_count": 8
        }
      ]
    },
    {
      "cell_type": "markdown",
      "source": [
        "Perfect. Now let's take these rows out of the player attribute dataset and consolidate it with the seasons feature we just created."
      ],
      "metadata": {
        "id": "9qLoMYdcyNCf"
      }
    },
    {
      "cell_type": "code",
      "source": [
        "playerAttributes = playerAttributes.drop(badDates)\n",
        "playerAttributes['season'] = seasons\n",
        "playerAttributes = playerAttributes.drop_duplicates(subset=['player_api_id', 'season'], keep='first')\n",
        "playerAttributes.reset_index(drop=True, inplace=True)"
      ],
      "metadata": {
        "id": "y1aZfqO1yMtS"
      },
      "execution_count": 9,
      "outputs": []
    },
    {
      "cell_type": "markdown",
      "source": [
        "Now let's assess the state of the dataset in terms of N/A or null values. To do that, we'll use a quick one liner that shows how many null values there are in each column."
      ],
      "metadata": {
        "id": "SezkhZjPygZo"
      }
    },
    {
      "cell_type": "code",
      "source": [
        "playerAttributes.isna().sum()"
      ],
      "metadata": {
        "colab": {
          "base_uri": "https://localhost:8080/"
        },
        "id": "aT3pB-r6ygQU",
        "outputId": "41af4926-461c-42d0-9f3f-63679c9bfd57"
      },
      "execution_count": 10,
      "outputs": [
        {
          "output_type": "execute_result",
          "data": {
            "text/plain": [
              "id                        0\n",
              "player_fifa_api_id        0\n",
              "player_api_id             0\n",
              "date                      0\n",
              "overall_rating            0\n",
              "potential                 0\n",
              "preferred_foot            0\n",
              "attacking_work_rate    1006\n",
              "defensive_work_rate       0\n",
              "crossing                  0\n",
              "finishing                 0\n",
              "heading_accuracy          0\n",
              "short_passing             0\n",
              "volleys                 716\n",
              "dribbling                 0\n",
              "curve                   716\n",
              "free_kick_accuracy        0\n",
              "long_passing              0\n",
              "ball_control              0\n",
              "acceleration              0\n",
              "sprint_speed              0\n",
              "agility                 716\n",
              "reactions                 0\n",
              "balance                 716\n",
              "shot_power                0\n",
              "jumping                 716\n",
              "stamina                   0\n",
              "strength                  0\n",
              "long_shots                0\n",
              "aggression                0\n",
              "interceptions             0\n",
              "positioning               0\n",
              "vision                  716\n",
              "penalties                 0\n",
              "marking                   0\n",
              "standing_tackle           0\n",
              "sliding_tackle          716\n",
              "gk_diving                 0\n",
              "gk_handling               0\n",
              "gk_kicking                0\n",
              "gk_positioning            0\n",
              "gk_reflexes               0\n",
              "season                    0\n",
              "dtype: int64"
            ]
          },
          "metadata": {},
          "execution_count": 10
        }
      ]
    },
    {
      "cell_type": "markdown",
      "source": [
        "There are several columns that are missing a significant number of values, but we have enough columns that in my opinion, looking at which columns have the null values, it is better to work around these columns than to drop that many rows of data. This is especially true if there isn't overlap between which rows are missing values in each column. It is important to check for null values so that later, when we select the features to use in our model, we know not to include those which are incomplete.\n",
        "\n",
        "Now let's add the position of each player to their player attribute row. We'll do this by using the attributes \"GK Handling\", \"Short Passing\", \"Standing Tackle\", and \"Finishing\" as proxies for the positions of goalkeeper, midfielder, defender, and attacker respectively. Whichever of these attributes is the player's highest will correspond to the position we ascribe them."
      ],
      "metadata": {
        "id": "rx2GOVax3pcL"
      }
    },
    {
      "cell_type": "code",
      "source": [
        "positions = []\n",
        "\n",
        "for i in range(len(playerAttributes)):\n",
        "  if playerAttributes['gk_handling'][i] > 60:\n",
        "    positions.append('G')\n",
        "    continue\n",
        "  if max(playerAttributes['finishing'][i], playerAttributes['short_passing'][i], playerAttributes['standing_tackle'][i]) == playerAttributes['finishing'][i]:\n",
        "    positions.append('A')\n",
        "    continue\n",
        "  if max(playerAttributes['finishing'][i], playerAttributes['short_passing'][i], playerAttributes['standing_tackle'][i]) == playerAttributes['standing_tackle'][i]:\n",
        "    positions.append('D')\n",
        "    continue\n",
        "  if max(playerAttributes['finishing'][i], playerAttributes['short_passing'][i], playerAttributes['standing_tackle'][i]) == playerAttributes['short_passing'][i]:\n",
        "    positions.append('M')\n",
        "    continue\n",
        "  else:\n",
        "    print(playerAttributes['finishing'][i], playerAttributes['short_passing'][i], playerAttributes['standing_tackle'][i])\n",
        "\n",
        "\n",
        "\n",
        "playerAttributes['position'] = positions"
      ],
      "metadata": {
        "id": "-Ot5b_nF3pS-"
      },
      "execution_count": 11,
      "outputs": []
    },
    {
      "cell_type": "markdown",
      "source": [
        "At this point, the dataset is fairly large, and correlation of certain features to success may not carry across leagues. Since I just have my CPU to run on, and the primary goal is to make something successful, we're going to take a subset of the data that only includes matches from the English Premier League that don't have an outright favorite. First we'll extract the EPL matches."
      ],
      "metadata": {
        "id": "iAwEumZL8qRh"
      }
    },
    {
      "cell_type": "code",
      "source": [
        "matchesEPL = matches[matches['league_id'] == 1729]\n",
        "matchesEPL.reset_index(drop=True, inplace=True)"
      ],
      "metadata": {
        "id": "NN5njd-_8qHi"
      },
      "execution_count": 12,
      "outputs": []
    },
    {
      "cell_type": "markdown",
      "source": [
        "To effectively compare teams in order to predict the outcome of a match, we have to be able to compare the squads of players themselves in some capacity. To do this, we will assemble the squads by assigning each player a team. We have to do this by season since teams can acquire new players and players can change teams.\n",
        "\n",
        "First we isolate the players. Since every team will be the home team at some point, we only need the home team players columns. Then we'll take these 11 columns and stack them to make one column."
      ],
      "metadata": {
        "id": "YdqDVFF6_kNl"
      }
    },
    {
      "cell_type": "code",
      "source": [
        "squads = matchesEPL[['home_player_1', 'home_player_2', 'home_player_3',\n",
        "       'home_player_4', 'home_player_5', 'home_player_6', 'home_player_7',\n",
        "       'home_player_8', 'home_player_9', 'home_player_10', 'home_player_11']]\n",
        "\n",
        "squadsLong = squads.stack([0],dropna=False)\n",
        "\n",
        "squadsLong.shape"
      ],
      "metadata": {
        "colab": {
          "base_uri": "https://localhost:8080/"
        },
        "id": "HAc9FDwh_kCc",
        "outputId": "feb38f0d-18e7-4147-a469-0a550a1db828"
      },
      "execution_count": 13,
      "outputs": [
        {
          "output_type": "execute_result",
          "data": {
            "text/plain": [
              "(33440,)"
            ]
          },
          "metadata": {},
          "execution_count": 13
        }
      ]
    },
    {
      "cell_type": "markdown",
      "source": [
        "From there, we're going to get the index of each player, the club they play for, and the season for which that index corresponds. We grab the match ID by taking the modulo 11, since the first 11 players will be in the first game, the second 11 in the second game, etc.\n",
        "\n",
        "We append the index of the player to an empty list, then grab the club name by indexing the matches dataset with the match ID, as well as the season.\n",
        "\n",
        "At the end, we consolidate these three lists into a separate dataset and merge it with the player attributes dataset we've been working with. We are able to accurately merge it using ID and season, ultimately adding just the team to which the player belonged that season."
      ],
      "metadata": {
        "id": "bZ-R3HO7FzIw"
      }
    },
    {
      "cell_type": "code",
      "source": [
        "id = []\n",
        "clubs = []\n",
        "years = []\n",
        "\n",
        "modulo = 11\n",
        "x = 0.1\n",
        "\n",
        "for i in range(len(squadsLong)):\n",
        "  if squadsLong.iloc[i] == 'nan':\n",
        "    continue\n",
        "  else:\n",
        "    id.append(squadsLong.iloc[i])\n",
        "  if i%modulo == 0:\n",
        "    matchID = np.floor(i/modulo) - 1 #edge case we have to subtract 1\n",
        "  if i == 0:\n",
        "    matchID = 0\n",
        "  else:\n",
        "    matchID = np.floor(i/modulo)\n",
        "  club = matchesEPL['home_team_api_id'][matchID]\n",
        "  year = matchesEPL['season'][matchID]\n",
        "\n",
        "  clubs.append(club)\n",
        "  years.append(year)\n",
        "\n",
        "\n",
        "  if i > len(squadsLong)*x:\n",
        "      print(str(100*x) + \" % done\")\n",
        "      x += 0.1"
      ],
      "metadata": {
        "colab": {
          "base_uri": "https://localhost:8080/"
        },
        "id": "dfCyrn-pFy_1",
        "outputId": "3090272a-94a2-4c7e-d1e5-ba86bff74037"
      },
      "execution_count": 100,
      "outputs": [
        {
          "output_type": "stream",
          "name": "stdout",
          "text": [
            "10.0 % done\n",
            "20.0 % done\n",
            "30.000000000000004 % done\n",
            "40.0 % done\n",
            "50.0 % done\n",
            "60.0 % done\n",
            "70.0 % done\n",
            "80.0 % done\n",
            "89.99999999999999 % done\n"
          ]
        }
      ]
    },
    {
      "cell_type": "code",
      "source": [
        "clubID = pd.DataFrame(data= {'player_api_id':id, 'team':clubs, 'season':years})"
      ],
      "metadata": {
        "id": "KXeM6SOjHVHN"
      },
      "execution_count": 15,
      "outputs": []
    },
    {
      "cell_type": "code",
      "source": [
        "playerTeams = playerAttributes.merge(clubID, how='left', on=['player_api_id', 'season'])"
      ],
      "metadata": {
        "id": "BRQ963NuHrgs"
      },
      "execution_count": 16,
      "outputs": []
    },
    {
      "cell_type": "markdown",
      "source": [
        "We do have some null values to deal with; we had to leave them in so that the modulo strategy worked, but now we will remove them. These rows represent individual players during particular seasons. Removing them will mean they are not incorporated into the team's average values later, but is necessary in order to move forward."
      ],
      "metadata": {
        "id": "ZLSoNmHjHg6f"
      }
    },
    {
      "cell_type": "code",
      "source": [
        "drops = []\n",
        "\n",
        "for i in range(len(playerTeams)):\n",
        "  if pd.isna(playerTeams['team'][i]) == True:\n",
        "    drops.append(i)\n",
        "\n",
        "playerTeamsEPL = playerTeams.drop(drops)\n",
        "playerTeamsEPL.reset_index(drop=True, inplace=True)"
      ],
      "metadata": {
        "id": "Bx9i24DxHgwP"
      },
      "execution_count": 17,
      "outputs": []
    },
    {
      "cell_type": "markdown",
      "source": [
        "Double check to make sure everything went as planned."
      ],
      "metadata": {
        "id": "KMu0oNOxJAIN"
      }
    },
    {
      "cell_type": "code",
      "source": [
        "len(playerTeams) - playerTeams['team'].isna().sum() == len(playerTeamsEPL)"
      ],
      "metadata": {
        "colab": {
          "base_uri": "https://localhost:8080/"
        },
        "id": "5zVSCLDvJBOr",
        "outputId": "8780c6f3-b931-4650-b206-fa26f035e4c3"
      },
      "execution_count": 18,
      "outputs": [
        {
          "output_type": "execute_result",
          "data": {
            "text/plain": [
              "True"
            ]
          },
          "metadata": {},
          "execution_count": 18
        }
      ]
    },
    {
      "cell_type": "markdown",
      "source": [
        "Excellent, our data is really starting to take shape! Now we can merge the player dataset from earlier and begin aggregating some of the attribute data.\n",
        "\n",
        "Someone (or many people) will hate this, but I encourage you to think of it as an opportunity for me to learn! While it may be tough to look at, these lists and the nested for-loop eventually hand us the average speed, height, and rating of each position for each team each year. Since we pared down the dataset, this inefficiency isn't as egregious as it might be in other situations. I'm willing to sacrifice the runtime for effective results at this moment."
      ],
      "metadata": {
        "id": "ZY5xQAw1JAGv"
      }
    },
    {
      "cell_type": "code",
      "source": [
        "playerTeamsEPL = playerTeamsEPL.merge(player, how='left', on=['player_api_id'])"
      ],
      "metadata": {
        "id": "02D7VFD0JBco"
      },
      "execution_count": 19,
      "outputs": []
    },
    {
      "cell_type": "code",
      "source": [
        "t = []\n",
        "y = []\n",
        "r = []\n",
        "h_a = []\n",
        "h_m = []\n",
        "h_d = []\n",
        "s_a = []\n",
        "s_m = []\n",
        "s_d = []\n",
        "a_r = []\n",
        "m_r = []\n",
        "d_r = []\n",
        "\n",
        "for club in set(playerTeamsEPL['team']):\n",
        "  for year in set(playerTeamsEPL['season']):\n",
        "    t.append(club)\n",
        "    y.append(year)\n",
        "\n",
        "    rtg = np.mean(playerTeamsEPL['overall_rating'][(playerTeamsEPL['team'] == club) & (playerTeamsEPL['season'] == year)])\n",
        "    hgt_a = np.mean(playerTeamsEPL['height'][(playerTeamsEPL['team'] == club) & (playerTeamsEPL['season'] == year) & (playerTeamsEPL['position'] == 'A')])\n",
        "    hgt_m = np.mean(playerTeamsEPL['height'][(playerTeamsEPL['team'] == club) & (playerTeamsEPL['season'] == year) & (playerTeamsEPL['position'] == 'M')])\n",
        "    hgt_d = np.mean(playerTeamsEPL['height'][(playerTeamsEPL['team'] == club) & (playerTeamsEPL['season'] == year) & (playerTeamsEPL['position'] == 'D')])\n",
        "    spd_a = np.mean(playerTeamsEPL['sprint_speed'][(playerTeamsEPL['team'] == club) & (playerTeamsEPL['season'] == year) & (playerTeamsEPL['position'] == 'A')])\n",
        "    spd_m = np.mean(playerTeamsEPL['sprint_speed'][(playerTeamsEPL['team'] == club) & (playerTeamsEPL['season'] == year) & (playerTeamsEPL['position'] == 'M')])\n",
        "    spd_d = np.mean(playerTeamsEPL['sprint_speed'][(playerTeamsEPL['team'] == club) & (playerTeamsEPL['season'] == year) & (playerTeamsEPL['position'] == 'D')])\n",
        "    rtg_a = np.mean(playerTeamsEPL['overall_rating'][(playerTeamsEPL['team'] == club) & (playerTeamsEPL['season'] == year) & (playerTeamsEPL['position'] == 'A')])\n",
        "    rtg_m = np.mean(playerTeamsEPL['overall_rating'][(playerTeamsEPL['team'] == club) & (playerTeamsEPL['season'] == year) & (playerTeamsEPL['position'] == 'M')])\n",
        "    rtg_d = np.mean(playerTeamsEPL['overall_rating'][(playerTeamsEPL['team'] == club) & (playerTeamsEPL['season'] == year) & (playerTeamsEPL['position'] == 'D')])\n",
        "\n",
        "\n",
        "\n",
        "    r.append(rtg)\n",
        "    h_a.append(hgt_a)\n",
        "    h_m.append(hgt_m)\n",
        "    h_d.append(hgt_d)\n",
        "    s_a.append(spd_a)\n",
        "    s_m.append(spd_m)\n",
        "    s_d.append(spd_d)\n",
        "    a_r.append(rtg_a)\n",
        "    m_r.append(rtg_m)\n",
        "    d_r.append(rtg_d)"
      ],
      "metadata": {
        "id": "1qK4WrEEK95x"
      },
      "execution_count": 20,
      "outputs": []
    },
    {
      "cell_type": "markdown",
      "source": [
        "Now we'll put these lists together into a dataset to be referenced later."
      ],
      "metadata": {
        "id": "8OV-ilA8Hf2c"
      }
    },
    {
      "cell_type": "code",
      "source": [
        "teamRatings = pd.DataFrame(data={'team_id':t, 'year':y, 'rating':r, 'att_height':h_a, 'mid_height':h_m, 'def_height':h_d, 'att_speed':s_a, 'mid_speed':s_m,\n",
        "                                 'def_speed':s_d, 'att_rating':a_r, 'mid_rating':m_r, 'def_rating':d_r})"
      ],
      "metadata": {
        "id": "TsSqCCMOJCS2"
      },
      "execution_count": 21,
      "outputs": []
    },
    {
      "cell_type": "code",
      "source": [
        "drops = []\n",
        "\n",
        "for i in range(len(teamRatings)):\n",
        "  if pd.isna(teamRatings['rating'][i]) == True:\n",
        "    drops.append(i)\n",
        "\n",
        "teamRatings = teamRatings.drop(drops)\n",
        "teamRatings.reset_index(drop=True, inplace=True)"
      ],
      "metadata": {
        "id": "b_Is-paLMHtH"
      },
      "execution_count": 22,
      "outputs": []
    },
    {
      "cell_type": "markdown",
      "source": [
        "We add the full club names to the rows of this new dataset as well."
      ],
      "metadata": {
        "id": "xjJc7M9JMMnL"
      }
    },
    {
      "cell_type": "code",
      "source": [
        "clubNames = []\n",
        "\n",
        "for id in teamRatings['team_id']:\n",
        "  clubName = team['team_long_name'][team['team_api_id'] == id]\n",
        "  clubNames.append(clubName)\n",
        "\n",
        "teamRatings['club_name'] = clubNames"
      ],
      "metadata": {
        "id": "QZPBypruMJm-"
      },
      "execution_count": 23,
      "outputs": []
    },
    {
      "cell_type": "markdown",
      "source": [
        "Using this new dataset, we engineer some new features by comparing the teams in each match with the ratings we computed.\n",
        "\n",
        "The difference in height, speed, and rating between the different teams may prove useful in the model."
      ],
      "metadata": {
        "id": "I4_EK-GFMV7p"
      }
    },
    {
      "cell_type": "code",
      "source": [
        "diffRating = []\n",
        "\n",
        "for i in range(len(matchesEPL)):\n",
        "  d = teamRatings['rating'][(teamRatings['team_id'] == matchesEPL['home_team_api_id'][i]) & (teamRatings['year'] == matchesEPL['season'][i])].iloc[0] - teamRatings['rating'][(teamRatings['team_id'] == matchesEPL['away_team_api_id'][i]) & (teamRatings['year'] == matchesEPL['season'][i])].iloc[0]\n",
        "  diffRating.append(d)\n",
        "\n",
        "diffHeightHA = []\n",
        "diffHeightAH = []\n",
        "\n",
        "for i in range(len(matchesEPL)):\n",
        "  d = teamRatings['att_height'][(teamRatings['team_id'] == matchesEPL['home_team_api_id'][i]) & (teamRatings['year'] == matchesEPL['season'][i])].iloc[0] - teamRatings['def_height'][(teamRatings['team_id'] == matchesEPL['away_team_api_id'][i]) & (teamRatings['year'] == matchesEPL['season'][i])].iloc[0]\n",
        "  diffHeightHA.append(d)\n",
        "\n",
        "  d = teamRatings['att_height'][(teamRatings['team_id'] == matchesEPL['away_team_api_id'][i]) & (teamRatings['year'] == matchesEPL['season'][i])].iloc[0] - teamRatings['def_height'][(teamRatings['team_id'] == matchesEPL['home_team_api_id'][i]) & (teamRatings['year'] == matchesEPL['season'][i])].iloc[0]\n",
        "  diffHeightAH.append(d)\n",
        "\n",
        "diffSpeedHA = []\n",
        "diffSpeedAH = []\n",
        "\n",
        "for i in range(len(matchesEPL)):\n",
        "  d = teamRatings['att_speed'][(teamRatings['team_id'] == matchesEPL['home_team_api_id'][i]) & (teamRatings['year'] == matchesEPL['season'][i])].iloc[0] - teamRatings['def_speed'][(teamRatings['team_id'] == matchesEPL['away_team_api_id'][i]) & (teamRatings['year'] == matchesEPL['season'][i])].iloc[0]\n",
        "  diffSpeedHA.append(d)\n",
        "\n",
        "  d = teamRatings['att_speed'][(teamRatings['team_id'] == matchesEPL['away_team_api_id'][i]) & (teamRatings['year'] == matchesEPL['season'][i])].iloc[0] - teamRatings['def_speed'][(teamRatings['team_id'] == matchesEPL['home_team_api_id'][i]) & (teamRatings['year'] == matchesEPL['season'][i])].iloc[0]\n",
        "  diffSpeedAH.append(d)\n",
        "\n",
        "diffRatingMid = []\n",
        "\n",
        "for i in range(len(matchesEPL)):\n",
        "  d = teamRatings['mid_rating'][(teamRatings['team_id'] == matchesEPL['home_team_api_id'][i]) & (teamRatings['year'] == matchesEPL['season'][i])].iloc[0] - teamRatings['mid_rating'][(teamRatings['team_id'] == matchesEPL['away_team_api_id'][i]) & (teamRatings['year'] == matchesEPL['season'][i])].iloc[0]\n",
        "  diffRatingMid.append(d)\n",
        "\n"
      ],
      "metadata": {
        "id": "MU0QAOcSMWaf"
      },
      "execution_count": 24,
      "outputs": []
    },
    {
      "cell_type": "markdown",
      "source": [
        "We'll put that to the side now and introduce a new dataset. This dataset gives us the finishing position of each team in each season, and we're going to use the finishing position in the prior year for each team as a feature."
      ],
      "metadata": {
        "id": "2A0iMWS6M-QR"
      }
    },
    {
      "cell_type": "code",
      "source": [
        "standings = pd.read_csv(\"/content/gdrive/My Drive/Datasets/EPL Standings 2000-2022.csv\")\n",
        "\n",
        "#EPL finishing standings 2000-2022\n",
        "#https://www.kaggle.com/datasets/quadeer15sh/premier-league-standings-11-seasons-20102021?select=EPL+Standings+2000-2022.csv"
      ],
      "metadata": {
        "id": "EBmRNwVFNHVJ"
      },
      "execution_count": 25,
      "outputs": []
    },
    {
      "cell_type": "markdown",
      "source": [
        "This dataset has different formatting for its string values representing the season than ours, so we have to transform it to match."
      ],
      "metadata": {
        "id": "clv3nf-3Nckd"
      }
    },
    {
      "cell_type": "code",
      "source": [
        "def transform_string(string_data):\n",
        "    parts = string_data.split('-')\n",
        "    year = parts[0]\n",
        "    two_digit_year = parts[1]\n",
        "    four_digit_year = '20' + two_digit_year\n",
        "    converted_data = year + '/' + four_digit_year\n",
        "    return converted_data\n",
        "\n",
        "# Apply the transformation to all entries of the Series\n",
        "standings['Season'] = standings['Season'].apply(lambda x: transform_string(x))\n",
        "\n",
        "print(standings['Season'][0:20])"
      ],
      "metadata": {
        "colab": {
          "base_uri": "https://localhost:8080/"
        },
        "id": "GhhTUxcsNc4A",
        "outputId": "729f5f8b-c526-49cc-d66c-30138daaab56"
      },
      "execution_count": 26,
      "outputs": [
        {
          "output_type": "stream",
          "name": "stdout",
          "text": [
            "0     2000/2001\n",
            "1     2000/2001\n",
            "2     2000/2001\n",
            "3     2000/2001\n",
            "4     2000/2001\n",
            "5     2000/2001\n",
            "6     2000/2001\n",
            "7     2000/2001\n",
            "8     2000/2001\n",
            "9     2000/2001\n",
            "10    2000/2001\n",
            "11    2000/2001\n",
            "12    2000/2001\n",
            "13    2000/2001\n",
            "14    2000/2001\n",
            "15    2000/2001\n",
            "16    2000/2001\n",
            "17    2000/2001\n",
            "18    2000/2001\n",
            "19    2000/2001\n",
            "Name: Season, dtype: object\n"
          ]
        }
      ]
    },
    {
      "cell_type": "markdown",
      "source": [
        "Next we have to extract just the 8 seasons that we're interested in."
      ],
      "metadata": {
        "id": "h1b63btLN91D"
      }
    },
    {
      "cell_type": "code",
      "source": [
        "yearDict = dict(zip(sorted(set(standings.Season)), np.linspace(0,len(set(standings.Season))-1, len(set(standings.Season)), dtype=int)))\n",
        "yearList = list(sorted(set(standings.Season)))"
      ],
      "metadata": {
        "id": "ApUX49NuN-Pe"
      },
      "execution_count": 27,
      "outputs": []
    },
    {
      "cell_type": "code",
      "source": [
        "dataStandings = standings.iloc[[i for i in range(len(standings)) if standings['Season'][i] in yearList[8:16]]]\n",
        "dataStandings.reset_index(drop=True, inplace=True)"
      ],
      "metadata": {
        "id": "EfmQSVanOApQ"
      },
      "execution_count": 28,
      "outputs": []
    },
    {
      "cell_type": "markdown",
      "source": [
        "And now we can make a list containing the prior year's standing for each team in the order in which they appear in the dataset, and add it as its own column."
      ],
      "metadata": {
        "id": "NU_zsYgmONIw"
      }
    },
    {
      "cell_type": "code",
      "source": [
        "pStand = []\n",
        "\n",
        "for i in range(len(dataStandings)):\n",
        "  t = dataStandings['Team'][i]\n",
        "\n",
        "  p = standings['Pos'][(standings['Season'] == yearList[yearDict[dataStandings['Season'][i]] - 1]) & (standings['Team'] == t)]\n",
        "\n",
        "  pStand.append(p)"
      ],
      "metadata": {
        "id": "r-VgZjXMONq8"
      },
      "execution_count": 29,
      "outputs": []
    },
    {
      "cell_type": "code",
      "source": [
        "dataStandings['prior_year_pos'] = pStand"
      ],
      "metadata": {
        "id": "YMZBVgiyOsrF"
      },
      "execution_count": null,
      "outputs": []
    },
    {
      "cell_type": "markdown",
      "source": [
        "To match these datasets, we need to add the name of the home and away teams in the matches dataset."
      ],
      "metadata": {
        "id": "ssnHa2aEOtQo"
      }
    },
    {
      "cell_type": "code",
      "source": [
        "homeNames = []\n",
        "awayNames = []\n",
        "\n",
        "for i in range(len(matchesEPL)):\n",
        "  h = team['team_long_name'][team['team_api_id'] == matchesEPL['home_team_api_id'][i]]\n",
        "  a = team['team_long_name'][team['team_api_id'] == matchesEPL['away_team_api_id'][i]]\n",
        "\n",
        "  homeNames.append(h)\n",
        "  awayNames.append(a)"
      ],
      "metadata": {
        "id": "rT9gWmDqOtgz"
      },
      "execution_count": 31,
      "outputs": []
    },
    {
      "cell_type": "code",
      "source": [
        "matchesEPL['home_name'] = homeNames\n",
        "matchesEPL['away_name'] = awayNames"
      ],
      "metadata": {
        "id": "zDYoKmQTPvHh"
      },
      "execution_count": null,
      "outputs": []
    },
    {
      "cell_type": "markdown",
      "source": [
        "Again, the string data for the team names in the new dataset we introduced does not match the formatting of our current dataset, so we have to make some slight alterations."
      ],
      "metadata": {
        "id": "8AGku0_oPxHJ"
      }
    },
    {
      "cell_type": "code",
      "source": [
        "def convert_name(original_name):\n",
        "\n",
        "  string = str(original_name)\n",
        "  team_name = string.split('  ')[-1].split('\\n')[0]\n",
        "  return team_name\n",
        "\n",
        "def convert_data(original_data):\n",
        "  string = str(original_data)\n",
        "  try:\n",
        "    number = int(string.split('\\n')[0].split()[-1])\n",
        "    if number <21:\n",
        "      return number\n",
        "  except:\n",
        "    return 20"
      ],
      "metadata": {
        "id": "tt3KW0OMPxWd"
      },
      "execution_count": 33,
      "outputs": []
    },
    {
      "cell_type": "code",
      "source": [
        "h_prior = []\n",
        "a_prior = []\n",
        "\n",
        "for i in range(len(matchesEPL)):\n",
        "  h_t = matchesEPL['home_name'][i]\n",
        "  a_t = matchesEPL['away_name'][i]\n",
        "  y = matchesEPL['season'][i]\n",
        "\n",
        "  h_p = dataStandings['prior_year_pos'][(dataStandings['Team'] == convert_name(h_t)) & (dataStandings['Season'] == y)]\n",
        "  a_p = dataStandings['prior_year_pos'][(dataStandings['Team'] == convert_name(a_t)) & (dataStandings['Season'] == y)]\n",
        "\n",
        "\n",
        "  h_prior.append(convert_data(h_p))\n",
        "  a_prior.append(convert_data(a_p))"
      ],
      "metadata": {
        "id": "mSfv3DMxQG37"
      },
      "execution_count": 34,
      "outputs": []
    },
    {
      "cell_type": "markdown",
      "source": [
        "And now we have the prior year's finishing position for each team in each season, and we can add this as a feature to our matches dataset for both the home and away teams. Additionally, we will add the difference in prior finishing position between the teams as a feature."
      ],
      "metadata": {
        "id": "jdOMleJFQMvm"
      }
    },
    {
      "cell_type": "code",
      "source": [
        "matchesEPL['home_prior_pos'] = h_prior\n",
        "matchesEPL['away_prior_pos'] = a_prior\n",
        "matchesEPL['prior_pos_diff'] = np.asarray(h_prior) - np.asarray(a_prior)"
      ],
      "metadata": {
        "id": "SHdt9cnAQL_Y"
      },
      "execution_count": null,
      "outputs": []
    },
    {
      "cell_type": "markdown",
      "source": [
        "Finally (!), we can create our dataset of features to be used in the model."
      ],
      "metadata": {
        "id": "UCmgJ5rQQhi0"
      }
    },
    {
      "cell_type": "code",
      "source": [
        "data = matchesEPL[['home_team_goal', 'away_team_goal', 'prior_pos_diff', 'B365H', 'B365D','B365A']]"
      ],
      "metadata": {
        "id": "WqjK63NbQhbJ"
      },
      "execution_count": 36,
      "outputs": []
    },
    {
      "cell_type": "code",
      "source": [
        "data['rating_diff_home_minus_away'] = diffRating\n",
        "data['height_diff_home_minus_away'] = diffHeightHA\n",
        "data['height_diff_away_minus_home'] = diffHeightAH\n",
        "data['speed_diff_home_minus_away'] = diffSpeedHA\n",
        "data['speed_diff_away_minus_home'] = diffSpeedAH\n",
        "data['rating_diff_midfield'] = diffRatingMid"
      ],
      "metadata": {
        "id": "heObIOvIQ2A5"
      },
      "execution_count": null,
      "outputs": []
    },
    {
      "cell_type": "markdown",
      "source": [
        "We also need to add a target variable. In this case, it is a three-class classification between a win, a draw, or a loss for the home team (represented by 2,1,0 respectively). We construct this by simply comparing the goals column for each team in each match and assigning the corresponding class.\n",
        "\n",
        "For clarity, we'll add it to the overall dataset even though we are going to separate it before training the model."
      ],
      "metadata": {
        "id": "gfjgqhRjQ6Q-"
      }
    },
    {
      "cell_type": "code",
      "source": [
        "results = []\n",
        "\n",
        "for i in range(len(data)):\n",
        "  if data['away_team_goal'][i] > data['home_team_goal'][i]:\n",
        "    results.append(0)\n",
        "  elif data['away_team_goal'][i] == data['home_team_goal'][i]:\n",
        "    results.append(1)\n",
        "  elif data['away_team_goal'][i] < data['home_team_goal'][i]:\n",
        "    results.append(2)"
      ],
      "metadata": {
        "id": "Gp2g3b9VQ3_H"
      },
      "execution_count": 38,
      "outputs": []
    },
    {
      "cell_type": "code",
      "source": [
        "data['results'] = results"
      ],
      "metadata": {
        "id": "x2KtvdkVRhVo"
      },
      "execution_count": null,
      "outputs": []
    },
    {
      "cell_type": "markdown",
      "source": [
        "There is one more idea that I had for a feature that may be useful, and again we'll have to engineer it using what we have available. Different field their players in different formations, using different numbers of attackers, midfielders, and defenders in various shapes. We have x-y coordinate date for the placement of each player on the field, but not a formation category. We will now make our own, as well as compute win rates for each formation against every other formation."
      ],
      "metadata": {
        "id": "9cw_y5auRnVc"
      }
    },
    {
      "cell_type": "code",
      "source": [
        "formationCoords = matchesEPL[matchesEPL.columns[11:55]]\n",
        "\n",
        "homeForm = []\n",
        "awayForm = []\n",
        "\n",
        "for i in range(len(formationCoords)):\n",
        "  d = sum(2 < j < 4 for j in formationCoords.iloc[i][22:33])\n",
        "  m = sum(4 <= j < 10 for j in formationCoords.iloc[i][22:33])\n",
        "  a = sum(10 <= j for j in formationCoords.iloc[i][22:33])\n",
        "\n",
        "  form = float(str(d)+str(m)+str(a))\n",
        "  homeForm.append(form)\n",
        "\n",
        "  d = sum(2 < j < 4 for j in formationCoords.iloc[i][33:44])\n",
        "  m = sum(4 <= j < 10 for j in formationCoords.iloc[i][33:44])\n",
        "  a = sum(10 <= j for j in formationCoords.iloc[i][33:44])\n",
        "\n",
        "  form = float(str(d)+str(m)+str(a))\n",
        "  awayForm.append(form)\n",
        "\n",
        "sortedFormations = sorted(set(homeForm))\n",
        "\n",
        "dictionary = dict(zip(sortedFormations, np.linspace(0,len(sortedFormations)-1, len(sortedFormations))))\n",
        "\n",
        "winRates = np.zeros((3, len(set(homeForm)), len(set(awayForm))))\n",
        "\n",
        "for i in range(len(results)):\n",
        "  winRates[results[i]][int(dictionary[homeForm[i]])][int(dictionary[awayForm[i]])] += 1\n",
        "\n",
        "wrSum = winRates[0] + winRates[1] + winRates[2]\n",
        "\n",
        "winRates0 = np.nan_to_num((winRates[0]/wrSum),copy=False)\n",
        "winRates1 = np.nan_to_num((winRates[1]/wrSum),copy=False)\n",
        "winRates2 = np.nan_to_num((winRates[2]/wrSum),copy=False)\n",
        "\n",
        "winRatesApp = np.append([winRates0, winRates1], [winRates2], axis=0)\n",
        "\n",
        "formationWinRates = []\n",
        "\n",
        "for i in range(len(results)):\n",
        "  wr = []\n",
        "  for j in range(len(winRatesApp)):\n",
        "    wr.append(winRatesApp[j][int(dictionary[homeForm[i]])][int(dictionary[awayForm[i]])])\n",
        "  formationWinRates.append(wr)\n",
        "\n",
        "np.asarray(formationWinRates).T.shape"
      ],
      "metadata": {
        "id": "g6V75uD2RnNS"
      },
      "execution_count": null,
      "outputs": []
    },
    {
      "cell_type": "code",
      "source": [
        "data['away_formation_winrate'] = np.asarray(formationWinRates).T[0]\n",
        "data['draw_formation_winrate'] = np.asarray(formationWinRates).T[1]\n",
        "data['home_formation_winrate'] = np.asarray(formationWinRates).T[2]"
      ],
      "metadata": {
        "id": "Kr7LkzQPSYz2"
      },
      "execution_count": null,
      "outputs": []
    },
    {
      "cell_type": "markdown",
      "source": [
        "Now we just need to pare down the dataset one more time before training the model, removing matches that had an outright favorite according to the sportsbook odds we are using."
      ],
      "metadata": {
        "id": "DE5ISyu0SHmN"
      }
    },
    {
      "cell_type": "code",
      "source": [
        "t = []\n",
        "\n",
        "for i in range(len(data)):\n",
        "  if data['B365H'][i] < 2:\n",
        "    t.append(i)\n",
        "  elif data['B365D'][i] < 2:\n",
        "    t.append(i)\n",
        "  elif data['B365A'][i] < 2:\n",
        "    t.append(i)\n",
        "\n",
        "print(len(t))"
      ],
      "metadata": {
        "colab": {
          "base_uri": "https://localhost:8080/"
        },
        "id": "3KJHZvmsSWgK",
        "outputId": "0a43f44b-ee45-4a51-e26c-69396ac16717"
      },
      "execution_count": 42,
      "outputs": [
        {
          "output_type": "stream",
          "name": "stdout",
          "text": [
            "1661\n"
          ]
        }
      ]
    },
    {
      "cell_type": "code",
      "source": [
        "dataNoFav = data.drop(t)\n",
        "dataNoFav.reset_index(drop=True, inplace=True)"
      ],
      "metadata": {
        "id": "oKehgdlOSfFR"
      },
      "execution_count": 43,
      "outputs": []
    },
    {
      "cell_type": "markdown",
      "source": [
        "Now we are ready to train the model. We have to separate the data into training and testing sets, as well as separating the target variable. We will also normalize all of the features using the standard deviation normalization technique.\n",
        "\n",
        "Our final dataset has 1379 rows and 13 features."
      ],
      "metadata": {
        "id": "I0dGQYy0ShbD"
      }
    },
    {
      "cell_type": "code",
      "source": [
        "x = dataNoFav.drop(columns = ['home_team_goal', 'away_team_goal', 'results'])\n",
        "y = dataNoFav['results']\n",
        "\n",
        "xNorm = x.copy()\n",
        "\n",
        "for col in xNorm.columns:\n",
        "  xNorm[col] = (xNorm[col] - xNorm[col].min())/(xNorm[col].max() - xNorm[col].min())\n",
        "\n",
        "\n",
        "x_train, x_test, y_train, y_test = train_test_split(xNorm, y, test_size=0.2, random_state=4)"
      ],
      "metadata": {
        "id": "uC3YxUBUShz-"
      },
      "execution_count": 44,
      "outputs": []
    },
    {
      "cell_type": "markdown",
      "source": [
        "We will be using a deep neural network with a few dense hidden layers. What the actual paramters of these layers should be was unclear, and so we used an informal grid search to tune the parameters to get the best results. This means I tried some higher values and lower values to get a balance between over and underfitting."
      ],
      "metadata": {
        "id": "QcUfQj5ITAas"
      }
    },
    {
      "cell_type": "code",
      "source": [
        "model = keras.Sequential()\n",
        "\n",
        "model.add(keras.Input(shape=(13,)))\n",
        "\n",
        "model.add(layers.Dense(20, activation=\"relu\"))\n",
        "model.add(layers.Dense(60, activation=\"relu\"))\n",
        "model.add(layers.Dense(120, activation=\"relu\"))\n",
        "model.add(layers.Dense(3, activation=\"softmax\"))\n",
        "\n",
        "\n",
        "\n",
        "model.summary()\n",
        "\n",
        "model.compile(optimizer='adam', loss='sparse_categorical_crossentropy', metrics=['accuracy'])"
      ],
      "metadata": {
        "colab": {
          "base_uri": "https://localhost:8080/"
        },
        "id": "XG_KrRL_TAwp",
        "outputId": "0dc8f700-bad9-4364-9f9b-68ff1cafc05d"
      },
      "execution_count": 94,
      "outputs": [
        {
          "output_type": "stream",
          "name": "stdout",
          "text": [
            "Model: \"sequential_11\"\n",
            "_________________________________________________________________\n",
            " Layer (type)                Output Shape              Param #   \n",
            "=================================================================\n",
            " dense_44 (Dense)            (None, 20)                280       \n",
            "                                                                 \n",
            " dense_45 (Dense)            (None, 60)                1260      \n",
            "                                                                 \n",
            " dense_46 (Dense)            (None, 120)               7320      \n",
            "                                                                 \n",
            " dense_47 (Dense)            (None, 3)                 363       \n",
            "                                                                 \n",
            "=================================================================\n",
            "Total params: 9223 (36.03 KB)\n",
            "Trainable params: 9223 (36.03 KB)\n",
            "Non-trainable params: 0 (0.00 Byte)\n",
            "_________________________________________________________________\n"
          ]
        }
      ]
    },
    {
      "cell_type": "markdown",
      "source": [
        "We also want to know what the base accuracy should be, i.e. what is the minimum threshold for success. While the sportsbook may not have an outright favorite, there is still one outcome that has the best odds (even if those odds are at or below 50%). Since we are including the sportsbook odds in our model, the success rate of the \"best\" odds should be the minimum accuracy of our model.\n",
        "\n",
        "So we compute this accuracy."
      ],
      "metadata": {
        "id": "mcW4_AjGTkeh"
      }
    },
    {
      "cell_type": "code",
      "source": [
        "q = []\n",
        "\n",
        "for i in range(len(dataNoFav)):\n",
        "\n",
        "  odds = 0\n",
        "\n",
        "  if min(dataNoFav['B365H'][i], dataNoFav['B365D'][i], dataNoFav['B365A'][i]) == dataNoFav['B365A'][i]:\n",
        "    odds = 0\n",
        "  elif min(dataNoFav['B365H'][i], dataNoFav['B365D'][i], dataNoFav['B365A'][i]) == dataNoFav['B365D'][i]:\n",
        "    odds = 1\n",
        "  elif min(dataNoFav['B365H'][i], dataNoFav['B365D'][i], dataNoFav['B365A'][i]) == dataNoFav['B365H'][i]:\n",
        "    odds = 2\n",
        "\n",
        "  if dataNoFav['results'][i] == odds:\n",
        "    q.append(1)\n",
        "\n",
        "\n",
        "print(sum(q)/len(dataNoFav))"
      ],
      "metadata": {
        "colab": {
          "base_uri": "https://localhost:8080/"
        },
        "id": "7qbE74ZdTkWx",
        "outputId": "b89d5c67-63b6-46f5-ad40-9371ede12e5e"
      },
      "execution_count": 46,
      "outputs": [
        {
          "output_type": "stream",
          "name": "stdout",
          "text": [
            "0.41624365482233505\n"
          ]
        }
      ]
    },
    {
      "cell_type": "markdown",
      "source": [
        "We train the model, and plot the training accuracy and validation accuracy over time."
      ],
      "metadata": {
        "id": "o0GXtN-vUW43"
      }
    },
    {
      "cell_type": "code",
      "source": [
        "reduce_lr = tf.keras.callbacks.ReduceLROnPlateau(monitor='val_loss', factor=0.2,\n",
        "                              patience=2, min_lr=0.0001)\n",
        "\n",
        "early_stop = tf.keras.callbacks.EarlyStopping(monitor='val_accuracy', patience=950,\n",
        "                                              restore_best_weights=True, start_from_epoch=50)\n",
        "\n",
        "\n",
        "x_train, x_test, y_train, y_test = train_test_split(xNorm, y, test_size=0.2, random_state=42)\n",
        "\n",
        "history = model.fit(x_train, y_train, batch_size = 32, epochs=1000, validation_data=(x_test, y_test), verbose=0, callbacks=[reduce_lr,early_stop])\n",
        "\n"
      ],
      "metadata": {
        "id": "jiidUTHRUWwq"
      },
      "execution_count": 95,
      "outputs": []
    },
    {
      "cell_type": "code",
      "source": [
        "plt.xlabel(\"Epoch\")\n",
        "plt.ylabel(\"Validation Accuracy (%)\")\n",
        "plt.plot(np.linspace(1,1000,1000), history.history['val_accuracy'])"
      ],
      "metadata": {
        "colab": {
          "base_uri": "https://localhost:8080/",
          "height": 467
        },
        "id": "OEgQ25DoXB4Q",
        "outputId": "03e60fbf-effc-4de7-a1d8-4fe29f90d252"
      },
      "execution_count": 96,
      "outputs": [
        {
          "output_type": "execute_result",
          "data": {
            "text/plain": [
              "[<matplotlib.lines.Line2D at 0x7ea37ff81e10>]"
            ]
          },
          "metadata": {},
          "execution_count": 96
        },
        {
          "output_type": "display_data",
          "data": {
            "text/plain": [
              "<Figure size 640x480 with 1 Axes>"
            ],
            "image/png": "[encoded data removed]"
          },
          "metadata": {}
        }
      ]
    },
    {
      "cell_type": "code",
      "source": [
        "plt.xlabel(\"Epoch\")\n",
        "plt.ylabel(\"Training Accuracy (%)\")\n",
        "plt.plot(np.linspace(1,1000,1000), history.history['accuracy'])"
      ],
      "metadata": {
        "colab": {
          "base_uri": "https://localhost:8080/",
          "height": 472
        },
        "id": "uVAQpNQMUuDN",
        "outputId": "446064cf-ce18-4e63-b5cc-b6393a515b3c"
      },
      "execution_count": 97,
      "outputs": [
        {
          "output_type": "execute_result",
          "data": {
            "text/plain": [
              "[<matplotlib.lines.Line2D at 0x7ea37fcbdf30>]"
            ]
          },
          "metadata": {},
          "execution_count": 97
        },
        {
          "output_type": "display_data",
          "data": {
            "text/plain": [
              "<Figure size 640x480 with 1 Axes>"
            ],
            "image/png": "[encoded data removed]"
          },
          "metadata": {}
        }
      ]
    },
    {
      "cell_type": "markdown",
      "source": [
        "We'll also record the highest validation accuracy achieved by the model. The weights for this epoch were saved using the \"early_stop\" callback in the model fit. It is evident that the validation accuracy peaks before the model begins to overfit (training accuracy continues to increase while validation accuracy decreases). It is worth noting that there is a second peak in the validation accuracy that is slightly lower than the global peak which also corresponds to higher training accuracy (near epoch 500). Depending on the goal of the model, it could be worth investigating that point to see if it accurately predicts more results across the whole dataset. But for this experiment, we are interested in the global maximum."
      ],
      "metadata": {
        "id": "42JQnLstU0g7"
      }
    },
    {
      "cell_type": "code",
      "source": [
        "print(max(history.history['val_accuracy']))"
      ],
      "metadata": {
        "colab": {
          "base_uri": "https://localhost:8080/"
        },
        "id": "c52MmQKRU1_j",
        "outputId": "1b18b25d-56de-47b8-b676-f9b837de8c34"
      },
      "execution_count": 98,
      "outputs": [
        {
          "output_type": "stream",
          "name": "stdout",
          "text": [
            "0.48188406229019165\n"
          ]
        }
      ]
    },
    {
      "cell_type": "markdown",
      "source": [
        "It looks like we beat the book! An accuracy of 50% would guarantee a profit if we took the predicted outcome of each game. But even without that, there's a chance we could still beat the book. If we were betting people, and wagered one dollar on every game over the 8 season span, how much money would our model make and how much would the sportsbook \"best\" odds make?"
      ],
      "metadata": {
        "id": "fvKXeWhkU8s2"
      }
    },
    {
      "cell_type": "code",
      "source": [
        "yHat = model.predict(xNorm)\n",
        "\n",
        "yHatmax = []\n",
        "\n",
        "for i in range(len(yHat)):\n",
        "  yHatmax.append(np.argmax(yHat[i]))\n",
        "\n",
        "betOdds = np.asarray(xNorm[['B365A','B365D','B365H']])\n",
        "\n",
        "betOddsmin = []\n",
        "\n",
        "for i in range(len(betOdds)):\n",
        "  betOddsmin.append(np.argmin(betOdds[i]))\n",
        "\n",
        "\n",
        "odds = []\n",
        "preds = []\n",
        "both = []\n",
        "\n",
        "for i in range(len(y)):\n",
        "  if betOddsmin[i] == y[i]:\n",
        "    odds.append(i)\n",
        "  if yHatmax[i] == y[i]:\n",
        "    preds.append(i)\n",
        "  if (betOddsmin[i] == y[i]) & (yHatmax[i] == y[i]):\n",
        "    both.append(i)\n",
        "\n",
        "lines = np.asarray(dataNoFav[['B365A','B365D','B365H']])\n",
        "\n",
        "betOddsBest = []\n",
        "\n",
        "for i in range(len(lines)):\n",
        "  betOddsBest.append(np.argmin(lines[i]))\n",
        "\n",
        "winningsHat = 0\n",
        "winningsBook = 0\n",
        "\n",
        "for i in range(len(y)):\n",
        "  if yHatmax[i] == y[i]:\n",
        "    winningsHat+=lines[i][y[i]]\n",
        "  if betOddsBest[i] == y[i]:\n",
        "    winningsBook+=lines[i][y[i]]\n",
        "\n",
        "print(\"The model won $\", np.round(winningsHat - len(y), 2))\n",
        "print(\"The book won $\", np.round(winningsBook - len(y), 2))"
      ],
      "metadata": {
        "colab": {
          "base_uri": "https://localhost:8080/"
        },
        "id": "jjtzKGmTU8lT",
        "outputId": "e916d687-3972-4aa3-d8f9-e71b74101dd4"
      },
      "execution_count": 99,
      "outputs": [
        {
          "output_type": "stream",
          "name": "stdout",
          "text": [
            "44/44 [==============================] - 0s 2ms/step\n",
            "The model won $ 697.61\n",
            "The book won $ -68.37\n"
          ]
        }
      ]
    },
    {
      "cell_type": "markdown",
      "source": [
        "We're positive! Of course, this is mostly down to luck. We happened to predict games with larger underdogs correctly and therefore made more than our accuracy in profit. But it was still a fun experiment to see if we could find value in the data."
      ],
      "metadata": {
        "id": "o1NC4jLPVnOB"
      }
    },
    {
      "cell_type": "code",
      "source": [],
      "metadata": {
        "id": "Q6Jhq1p8WCUI"
      },
      "execution_count": 50,
      "outputs": []
    }
  ]
}